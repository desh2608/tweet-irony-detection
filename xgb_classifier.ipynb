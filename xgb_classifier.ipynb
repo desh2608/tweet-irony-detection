{
 "cells": [
  {
   "cell_type": "code",
   "execution_count": 1,
   "metadata": {},
   "outputs": [],
   "source": [
    "import numpy as np\n",
    "import xgboost as xgb"
   ]
  },
  {
   "cell_type": "code",
   "execution_count": 2,
   "metadata": {},
   "outputs": [],
   "source": [
    "x_train_deepmoji = np.load('./datasets/taskB_train_deepmoji.npy')\n",
    "x_train_holographic = np.load('./datasets/taskB_train_holographic.npy')\n",
    "x_test_deepmoji = np.load('./datasets/taskB_test_deepmoji.npy')\n",
    "x_test_holographic = np.load('./datasets/taskB_test_holographic.npy')\n",
    "y_train = np.load('./datasets/taskB_labels.npy')"
   ]
  },
  {
   "cell_type": "code",
   "execution_count": 3,
   "metadata": {},
   "outputs": [],
   "source": [
    "x_train = np.concatenate((x_train_deepmoji,x_train_holographic),axis=1)"
   ]
  },
  {
   "cell_type": "code",
   "execution_count": 4,
   "metadata": {},
   "outputs": [],
   "source": [
    "x_test = np.concatenate((x_test_deepmoji,x_test_holographic),axis=1)"
   ]
  },
  {
   "cell_type": "code",
   "execution_count": 6,
   "metadata": {},
   "outputs": [],
   "source": [
    "y_train = np.argmax(y_train, axis=1)"
   ]
  },
  {
   "cell_type": "code",
   "execution_count": 7,
   "metadata": {},
   "outputs": [],
   "source": [
    "logreg = xgb.XGBClassifier(max_depth=5, learning_rate=0.1, n_estimators=200, silent=False, \n",
    "                           objective='multi:softmax', num_class=4, booster='gbtree', n_jobs=1, nthread=None, \n",
    "                           gamma=0, min_child_weight=1, max_delta_step=0, subsample=1, colsample_bytree=1, \n",
    "                           colsample_bylevel=1, reg_alpha=0, reg_lambda=1, scale_pos_weight=1, base_score=0.5, \n",
    "                           random_state=0, seed=None, missing=None)\n",
    "logreg.fit(x_train, y_train)\n",
    "\n",
    "y_pred = logreg.predict(x_test)\n",
    "# y_true = y_val_xgb\n",
    "# precision = metrics.precision_score(y_true, y_pred, average=None)\n",
    "# recall = metrics.recall_score(y_true, y_pred, average=None)\n",
    "# f1_score = metrics.f1_score(y_true, y_pred, average=None)\n",
    "# print(\"Precision: \" + str(precision) + \"\\n\")\n",
    "# print(\"Recall: \" + str(recall) + \"\\n\")\n",
    "# print(\"f1_score: \" + str(f1_score) + \"\\n\")\n",
    "# print(confusion_matrix(y_true, y_pred))\n",
    "# print(\":: Classification Report\")\n",
    "# print(classification_report(y_true, y_pred, digits=4))"
   ]
  },
  {
   "cell_type": "code",
   "execution_count": 13,
   "metadata": {},
   "outputs": [],
   "source": [
    "y_pred = y_pred.astype(int)"
   ]
  },
  {
   "cell_type": "code",
   "execution_count": 14,
   "metadata": {},
   "outputs": [],
   "source": [
    "np.save('./results/taskB_pred',y_pred)"
   ]
  },
  {
   "cell_type": "code",
   "execution_count": 8,
   "metadata": {},
   "outputs": [],
   "source": [
    "np.savetxt('./results/predictions-taskB.txt',y_pred,fmt='%i')"
   ]
  }
 ],
 "metadata": {
  "kernelspec": {
   "display_name": "Python 3",
   "language": "python",
   "name": "python3"
  },
  "language_info": {
   "codemirror_mode": {
    "name": "ipython",
    "version": 3
   },
   "file_extension": ".py",
   "mimetype": "text/x-python",
   "name": "python",
   "nbconvert_exporter": "python",
   "pygments_lexer": "ipython3",
   "version": "3.5.4"
  }
 },
 "nbformat": 4,
 "nbformat_minor": 2
}
