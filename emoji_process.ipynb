{
 "cells": [
  {
   "cell_type": "code",
   "execution_count": 74,
   "metadata": {},
   "outputs": [],
   "source": [
    "import numpy as np\n",
    "import io\n",
    "import operator"
   ]
  },
  {
   "cell_type": "code",
   "execution_count": 75,
   "metadata": {},
   "outputs": [],
   "source": [
    "fp_train = io.open(\"./datasets/train/SemEval2018-T3-train-taskA.txt\",'r',encoding=\"utf-8\")"
   ]
  },
  {
   "cell_type": "code",
   "execution_count": 76,
   "metadata": {},
   "outputs": [],
   "source": [
    "def getEmojisFromTweet(sample):\n",
    "    emoji = []\n",
    "    idx, label, tweet = sample.split('\\t')\n",
    "    for i in tweet.split():\n",
    "        if i.startswith(\":\"):\n",
    "            emoji.extend(list(filter(None, i.split(\":\"))))\n",
    "    emoji = list(set(emoji))\n",
    "    emoji = [i for i in emoji if i[0].isalpha()]\n",
    "    return emoji, label"
   ]
  },
  {
   "cell_type": "code",
   "execution_count": 77,
   "metadata": {},
   "outputs": [],
   "source": [
    "def readData(fp):\n",
    "    samples = fp.read().strip().split('\\n')\n",
    "    samples = samples[1:]\n",
    "    emojis = []\n",
    "    labels = []\n",
    "\n",
    "    for sample in samples:\n",
    "        emoji, label = getEmojisFromTweet(sample)\n",
    "        labels.append(label)\n",
    "        emojis.append(emoji)\n",
    "\n",
    "    return emojis, labels"
   ]
  },
  {
   "cell_type": "code",
   "execution_count": 78,
   "metadata": {},
   "outputs": [
    {
     "name": "stdout",
     "output_type": "stream",
     "text": [
      "3834\n"
     ]
    }
   ],
   "source": [
    "emojis, labels = readData(fp_train)\n",
    "print (len(labels))"
   ]
  },
  {
   "cell_type": "code",
   "execution_count": 79,
   "metadata": {},
   "outputs": [],
   "source": [
    "def makeEmojiList(emojis):\n",
    "    ef = {}\n",
    "    for sent in emojis:\n",
    "        for e in sent:\n",
    "            if e in ef:\n",
    "                ef[e] += 1\n",
    "            else:\n",
    "                ef[e] = 0\n",
    "    el = {}\n",
    "    i = 0\n",
    "    for e,f in ef.items():\n",
    "        el[e] = i\n",
    "        i += 1\n",
    "    el['UNK'] = i\n",
    "    return el"
   ]
  },
  {
   "cell_type": "code",
   "execution_count": 80,
   "metadata": {},
   "outputs": [],
   "source": [
    "emoji_list = makeEmojiList(emojis)\n"
   ]
  },
  {
   "cell_type": "code",
   "execution_count": 87,
   "metadata": {},
   "outputs": [],
   "source": [
    "freq_irony = {}\n",
    "freq_non = {}\n",
    "freq_norm = {}\n",
    "for emoji,label in zip(emojis,labels):\n",
    "    label = int(label)\n",
    "    if len(emoji) != 0:\n",
    "        for x in emoji:\n",
    "            if label == 1:\n",
    "                if x in freq_irony:\n",
    "                    freq_irony[x] += 1\n",
    "                    freq_norm[x] += 1\n",
    "                else:\n",
    "                    freq_irony[x] = 1\n",
    "                    freq_norm[x] = 1\n",
    "            else:\n",
    "                if x in freq_non:\n",
    "                    freq_non[x] += 1\n",
    "                    freq_norm[x] -= 1\n",
    "                else:\n",
    "                    freq_non[x] = 1\n",
    "                    freq_norm[x] = -1\n",
    "freq_irony = sorted(freq_irony.items(), key=operator.itemgetter(1), reverse=True)\n",
    "freq_non = sorted(freq_non.items(), key=operator.itemgetter(1), reverse=True)\n",
    "freq_norm = sorted(freq_norm.items(), key=operator.itemgetter(1), reverse=True)"
   ]
  },
  {
   "cell_type": "code",
   "execution_count": 90,
   "metadata": {},
   "outputs": [],
   "source": [
    "emoji_imp = [i[0] for i in freq_norm[:5]]\n",
    "emoji_imp.extend([i[0] for i in freq_norm[-5:]])"
   ]
  },
  {
   "cell_type": "code",
   "execution_count": 94,
   "metadata": {},
   "outputs": [],
   "source": [
    "W_emoji = np.zeros((len(emojis),len(emoji_imp)),dtype=np.int)\n",
    "i = 0\n",
    "for emoji in emojis:\n",
    "    for x in emoji:\n",
    "        if x in emoji_imp:\n",
    "            W_emoji[i][emoji_imp.index(x)] += 1\n",
    "    i += 1"
   ]
  },
  {
   "cell_type": "code",
   "execution_count": 101,
   "metadata": {},
   "outputs": [],
   "source": [
    "np.save('./datasets/taskA-emoji',W_emoji)"
   ]
  },
  {
   "cell_type": "code",
   "execution_count": null,
   "metadata": {},
   "outputs": [],
   "source": []
  }
 ],
 "metadata": {
  "kernelspec": {
   "display_name": "Python 3",
   "language": "python",
   "name": "python3"
  },
  "language_info": {
   "codemirror_mode": {
    "name": "ipython",
    "version": 3
   },
   "file_extension": ".py",
   "mimetype": "text/x-python",
   "name": "python",
   "nbconvert_exporter": "python",
   "pygments_lexer": "ipython3",
   "version": "3.5.4"
  }
 },
 "nbformat": 4,
 "nbformat_minor": 2
}
