{
 "cells": [
  {
   "cell_type": "code",
   "execution_count": null,
   "metadata": {
    "collapsed": true
   },
   "outputs": [],
   "source": [
    "import json\n",
    "comment_file = \"./datasets/SARC/comments.json\"\n",
    "with open(comment_file, 'r') as f:\n",
    "    comments = json.load(f)"
   ]
  },
  {
   "cell_type": "code",
   "execution_count": null,
   "metadata": {
    "collapsed": true
   },
   "outputs": [],
   "source": [
    "import csv\n",
    "\n",
    "train_file = \"./datasets/SARC/train-balanced.csv\"\n",
    "train_docs = {'ancestors': [], 'responses': []}\n",
    "train_labels = []\n",
    "with open(train_file, 'r') as f:\n",
    "    reader = csv.reader(f, delimiter='|')\n",
    "    for row in reader:\n",
    "        ancestors = row[0].split(' ')\n",
    "        responses = row[1].split(' ')\n",
    "        labels = row[2].split(' ')\n",
    "        if lower:\n",
    "            train_docs['ancestors'].append([comments[r]['text'].lower() for r in ancestors])\n",
    "            train_docs['responses'].append([comments[r]['text'].lower() for r in responses])\n",
    "        else:\n",
    "            train_docs['ancestors'].append([comments[r]['text'] for r in ancestors])\n",
    "            train_docs['responses'].append([comments[r]['text'] for r in responses])\n",
    "        train_labels.append(labels)"
   ]
  },
  {
   "cell_type": "code",
   "execution_count": null,
   "metadata": {
    "collapsed": true
   },
   "outputs": [],
   "source": [
    "data = pd.DataFrame(train_docs,columns=['ancestors', 'responses']) \n",
    "data[\"labels\"] = train_labels"
   ]
  },
  {
   "cell_type": "code",
   "execution_count": null,
   "metadata": {
    "collapsed": true
   },
   "outputs": [],
   "source": [
    "data.to_pickle(\"./datasets/SARC/SARC_data.pkl\")"
   ]
  },
  {
   "cell_type": "code",
   "execution_count": null,
   "metadata": {
    "collapsed": true
   },
   "outputs": [],
   "source": [
    "def get_comment(post):\n",
    "    ancestor = post.ancestors\n",
    "    responses = post.responses\n",
    "    labels = post[\"labels\"]  "
   ]
  },
  {
   "cell_type": "code",
   "execution_count": null,
   "metadata": {
    "collapsed": true
   },
   "outputs": [],
   "source": [
    "x_text = []\n",
    "label = []\n",
    "for index, post in data.iterrows():\n",
    "    ancestor = post.ancestors\n",
    "    responses = post.responses\n",
    "    labels = post[\"labels\"]  \n",
    "    \n",
    "    for i in range(len(responses)):\n",
    "        x_text.append(responses[i])\n",
    "        label.append(labels[i])"
   ]
  },
  {
   "cell_type": "code",
   "execution_count": null,
   "metadata": {
    "collapsed": true
   },
   "outputs": [],
   "source": [
    "import pickle\n",
    "\n",
    "# write a file\n",
    "f = open(\"./datasets/SARC/data.pkl\", \"w\")\n",
    "pickle.dump(x_text, f)\n",
    "pickle.dump(label, f)\n",
    "f.close()"
   ]
  },
  {
   "cell_type": "code",
   "execution_count": null,
   "metadata": {
    "collapsed": true
   },
   "outputs": [],
   "source": []
  }
 ],
 "metadata": {
  "kernelspec": {
   "display_name": "Python 2",
   "language": "python",
   "name": "python2"
  },
  "language_info": {
   "codemirror_mode": {
    "name": "ipython",
    "version": 2
   },
   "file_extension": ".py",
   "mimetype": "text/x-python",
   "name": "python",
   "nbconvert_exporter": "python",
   "pygments_lexer": "ipython2",
   "version": "2.7.14"
  }
 },
 "nbformat": 4,
 "nbformat_minor": 2
}
