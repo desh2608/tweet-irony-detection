{
 "cells": [
  {
   "cell_type": "code",
   "execution_count": 74,
   "metadata": {},
   "outputs": [],
   "source": [
    "import numpy as np\n",
    "import io\n",
    "import operator"
   ]
  },
  {
   "cell_type": "code",
   "execution_count": 75,
   "metadata": {},
   "outputs": [],
   "source": [
    "fp_train = io.open(\"./datasets/train/SemEval2018-T3-train-taskA.txt\",'r',encoding=\"utf-8\")"
   ]
  },
  {
   "cell_type": "code",
   "execution_count": 76,
   "metadata": {},
   "outputs": [],
   "source": [
    "def getEmojisFromTweet(sample):\n",
    "    emoji = []\n",
    "    idx, label, tweet = sample.split('\\t')\n",
    "    for i in tweet.split():\n",
    "        if i.startswith(\":\"):\n",
    "            emoji.extend(list(filter(None, i.split(\":\"))))\n",
    "    emoji = list(set(emoji))\n",
    "    emoji = [i for i in emoji if i[0].isalpha()]\n",
    "    return emoji, label"
   ]
  },
  {
   "cell_type": "code",
   "execution_count": 77,
   "metadata": {},
   "outputs": [],
   "source": [
    "def readData(fp):\n",
    "    samples = fp.read().strip().split('\\n')\n",
    "    samples = samples[1:]\n",
    "    emojis = []\n",
    "    labels = []\n",
    "\n",
    "    for sample in samples:\n",
    "        emoji, label = getEmojisFromTweet(sample)\n",
    "        labels.append(label)\n",
    "        emojis.append(emoji)\n",
    "\n",
    "    return emojis, labels"
   ]
  },
  {
   "cell_type": "code",
   "execution_count": 78,
   "metadata": {},
   "outputs": [
    {
     "name": "stdout",
     "output_type": "stream",
     "text": [
      "3834\n"
     ]
    }
   ],
   "source": [
    "emojis, labels = readData(fp_train)\n",
    "print (len(labels))"
   ]
  },
  {
   "cell_type": "code",
   "execution_count": 79,
   "metadata": {},
   "outputs": [],
   "source": [
    "def makeEmojiList(emojis):\n",
    "    ef = {}\n",
    "    for sent in emojis:\n",
    "        for e in sent:\n",
    "            if e in ef:\n",
    "                ef[e] += 1\n",
    "            else:\n",
    "                ef[e] = 0\n",
    "    el = {}\n",
    "    i = 0\n",
    "    for e,f in ef.items():\n",
    "        el[e] = i\n",
    "        i += 1\n",
    "    el['UNK'] = i\n",
    "    return el"
   ]
  },
  {
   "cell_type": "code",
   "execution_count": 80,
   "metadata": {},
   "outputs": [],
   "source": [
    "emoji_list = makeEmojiList(emojis)\n"
   ]
  },
  {
   "cell_type": "code",
   "execution_count": 87,
   "metadata": {},
   "outputs": [],
   "source": [
    "freq_irony = {}\n",
    "freq_non = {}\n",
    "freq_norm = {}\n",
    "for emoji,label in zip(emojis,labels):\n",
    "    label = int(label)\n",
    "    if len(emoji) != 0:\n",
    "        for x in emoji:\n",
    "            if label == 1:\n",
    "                if x in freq_irony:\n",
    "                    freq_irony[x] += 1\n",
    "                    freq_norm[x] += 1\n",
    "                else:\n",
    "                    freq_irony[x] = 1\n",
    "                    freq_norm[x] = 1\n",
    "            else:\n",
    "                if x in freq_non:\n",
    "                    freq_non[x] += 1\n",
    "                    freq_norm[x] -= 1\n",
    "                else:\n",
    "                    freq_non[x] = 1\n",
    "                    freq_norm[x] = -1\n",
    "freq_irony = sorted(freq_irony.items(), key=operator.itemgetter(1), reverse=True)\n",
    "freq_non = sorted(freq_non.items(), key=operator.itemgetter(1), reverse=True)\n",
    "freq_norm = sorted(freq_norm.items(), key=operator.itemgetter(1), reverse=True)"
   ]
  },
  {
   "cell_type": "code",
   "execution_count": 88,
   "metadata": {},
   "outputs": [
    {
     "name": "stdout",
     "output_type": "stream",
     "text": [
      "[('unamused_face', 10), ('flushed_face', 5), ('tired_face', 4), ('face_with_medical_mask', 4), ('white_smiling_face', 3), ('grinning_face', 3), ('speak-no-evil_monkey', 3), ('loudly_crying_face', 3), ('face_with_look_of_triumph', 2), ('smiling_face_with_open_mouth_and_smiling_eyes', 2), ('expressionless_face', 2), ('weary_face', 2), ('pile_of_poo', 2), ('victory_hand', 2), ('smiling_face_with_smiling_eyes', 2), ('face_screaming_in_fear', 2), ('sparkling_heart', 1), ('black_sun_with_rays', 1), ('dash_symbol', 1), ('cocktail_glass', 1), ('runner', 1), ('open_hands_sign', 1), ('dancer', 1), ('broken_heart', 1), ('Christmas', 1), ('mouse', 1), ('floppy_disk', 1), ('smiling_face_with_halo', 1), ('beating_heart', 1), ('information_desk_person', 1), ('sleeping_symbol', 1), ('palm_tree', 1), ('nail_polish', 1), ('v|#Supportfawad', 1), ('books', 1), ('ambulance', 1), ('weary_cat_face', 1), ('worried_face', 1), ('kiss_mark', 1), ('smiling_face_with_open_mouth', 1), ('face_with_ok_gesture', 1), ('fire_engine', 1), ('woman_with_bunny_ears', 1), ('raised_hand', 1), (\"It's\", 1), ('astonished_face', 1), ('see-no-evil_monkey', 1), ('P', 1), ('face_with_stuck-out_tongue', 1), ('confused_face', 1), ('clinking_beer_mugs', 1), ('neutral_face', 1), ('sleepy_face', 1), ('man_with_turban', 1), ('personal_computer', 1), ('hatching_chick', 1), ('french_fries', 1), ('clapping_hands_sign', 1), ('D|No', 1), ('green_heart', 1), ('confounded_face', 1), ('D|Have', 1), ('smiling_face_with_heart-shaped_eyes', 0), ('party_popper', 0), ('winking_face', 0), ('pistol', 0), ('persevering_face', 0), ('headphone', -1), ('v|#SteamSale', -1), ('disappointed_face', -1), ('face_with_open_mouth_and_cold_sweat', -1), ('cat_face', -1), ('bomb', -1), ('person_raising_both_hands_in_celebration', -1), ('smiling_face_with_open_mouth_and_tightly-closed_eyes', -1), ('face_with_no_good_gesture', -1), ('crying_face', -1), ('fire', -1), ('flag_for_Faroe_Islands', -1), ('face_savouring_delicious_food', -1), ('frog_face', -1), ('soon_with_rightwards_arrow_above', -1), ('trophy', -1), ('basketball_and_hoop', -1), ('smiling_face_with_open_mouth_and_cold_sweat', -1), ('thumbs_down_sign', -1), ('happy_person_raising_one_hand', -1), ('dizzy_face', -1), ('thumbs_up_sign', -1), ('flag_for_United_Kingdom', -1), ('growing_heart', -1), ('baseball', -1), ('high_voltage_sign', -1), ('pedestrian', -1), ('cloud', -1), ('thought_balloon', -1), ('princess', -1), ('hocho', -1), ('splashing_sweat_symbol', -1), ('bust_in_silhouette', -1), ('p', -1), ('s', -1), ('bath', -1), ('D', -1), ('pouting_face', -1), ('earth_globe_asia-australia', -1), ('smiling_face_with_sunglasses', -1), ('droplet', -1), ('dog_face', -1), ('black_rightwards_arrow', -1), ('sleeping_face', -1), ('black_heart_suit', -1), ('hot_beverage', -1), ('Jan', -1), ('fork_and_knife', -1), ('musical_note', -1), ('money_bag', -1), ('person_bowing_deeply', -1), ('kiss', -1), ('person_with_folded_hands', -1), ('musical_score', -1), ('snowflake', -1), ('squared_sos', -1), ('tropical_drink', -1), ('camera', -1), ('christmas_tree', -2), ('crown', -2), ('fisted_hand_sign', -2), ('ok_hand_sign', -2), ('O', -2), ('grimacing_face', -2), ('airplane', -2), ('smirking_face', -2), ('two_hearts', -2), ('skull', -2), ('hundred_points_symbol', -2), ('flexed_biceps', -2), ('umbrella_with_rain_drops', -3), ('face_with_stuck-out_tongue_and_tightly-closed_eyes', -3), ('face_with_stuck-out_tongue_and_winking_eye', -3), ('sparkles', -3), ('pensive_face', -3), ('face_throwing_a_kiss', -4), ('face_with_tears_of_joy', -4), ('father_christmas', -4), ('heavy_black_heart', -4), ('multiple_musical_notes', -4), ('grinning_face_with_smiling_eyes', -4), ('wrapped_present', -5), ('purple_heart', -6)]\n"
     ]
    }
   ],
   "source": [
    "print (freq_norm)"
   ]
  },
  {
   "cell_type": "code",
   "execution_count": null,
   "metadata": {},
   "outputs": [],
   "source": []
  }
 ],
 "metadata": {
  "kernelspec": {
   "display_name": "Python 3",
   "language": "python",
   "name": "python3"
  },
  "language_info": {
   "codemirror_mode": {
    "name": "ipython",
    "version": 3
   },
   "file_extension": ".py",
   "mimetype": "text/x-python",
   "name": "python",
   "nbconvert_exporter": "python",
   "pygments_lexer": "ipython3",
   "version": "3.5.4"
  }
 },
 "nbformat": 4,
 "nbformat_minor": 2
}
